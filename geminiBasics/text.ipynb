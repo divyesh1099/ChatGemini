{
 "cells": [
  {
   "cell_type": "code",
   "execution_count": 1,
   "metadata": {},
   "outputs": [
    {
     "name": "stderr",
     "output_type": "stream",
     "text": [
      "C:\\Users\\DELL\\AppData\\Local\\Packages\\PythonSoftwareFoundation.Python.3.11_qbz5n2kfra8p0\\LocalCache\\local-packages\\Python311\\site-packages\\tqdm\\auto.py:21: TqdmWarning: IProgress not found. Please update jupyter and ipywidgets. See https://ipywidgets.readthedocs.io/en/stable/user_install.html\n",
      "  from .autonotebook import tqdm as notebook_tqdm\n"
     ]
    }
   ],
   "source": [
    "import google.generativeai as genai\n",
    "from apiKey import key\n",
    "genai.configure(api_key=key)"
   ]
  },
  {
   "cell_type": "code",
   "execution_count": 2,
   "metadata": {},
   "outputs": [],
   "source": [
    "model=genai.GenerativeModel('gemini-pro')"
   ]
  },
  {
   "cell_type": "code",
   "execution_count": 3,
   "metadata": {},
   "outputs": [
    {
     "name": "stdout",
     "output_type": "stream",
     "text": [
      "The meaning of life is a deep philosophical question that has been pondered by people for centuries. There is no one definitive answer that is universally agreed upon. However, there are many different perspectives and beliefs about what the meaning of life might be.\n",
      "\n",
      "Some people believe that the meaning of life is to find happiness or fulfillment. They may seek this through personal relationships, career success, or creative pursuits. Others believe that the meaning of life is to make a difference in the world and to leave a lasting legacy. They may do this through humanitarian work, social justice activism, or environmental protection.\n",
      "\n",
      "Still others believe that the meaning of life is to connect with something greater than themselves. This could be a spiritual or religious belief, a connection to nature, or a sense of awe and wonder at the universe. Some people believe that the meaning of life is simply to experience it, to be present in the moment, and to appreciate the beauty and wonder of the world around them.\n",
      "\n",
      "Ultimately, the meaning of life is a personal and subjective question that each individual must answer for themselves. There is no right or wrong answer, and what is meaningful to one person may not be meaningful to another. However, the search for meaning is an important and worthwhile endeavor that can lead to a deeper understanding of oneself, the world, and one's place in it.\n"
     ]
    }
   ],
   "source": [
    "response=model.generate_content(\"What is the meaning of life?\")\n",
    "print(response.text)"
   ]
  }
 ],
 "metadata": {
  "kernelspec": {
   "display_name": "Python 3",
   "language": "python",
   "name": "python3"
  },
  "language_info": {
   "codemirror_mode": {
    "name": "ipython",
    "version": 3
   },
   "file_extension": ".py",
   "mimetype": "text/x-python",
   "name": "python",
   "nbconvert_exporter": "python",
   "pygments_lexer": "ipython3",
   "version": "3.11.7"
  }
 },
 "nbformat": 4,
 "nbformat_minor": 2
}
